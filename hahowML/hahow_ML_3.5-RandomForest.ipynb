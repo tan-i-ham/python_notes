{
 "cells": [
  {
   "cell_type": "markdown",
   "metadata": {},
   "source": [
    "## SVM 雖比類神經快，但遇到大量的資料，運算效能還是不好\n",
    "# 隨機森林：非線性分類，運算速度快"
   ]
  },
  {
   "cell_type": "markdown",
   "metadata": {
    "collapsed": true
   },
   "source": [
    "##  隨機森林可以想像成有很多的決策樹"
   ]
  },
  {
   "cell_type": "code",
   "execution_count": 9,
   "metadata": {
    "collapsed": true
   },
   "outputs": [],
   "source": [
    "from collections import Counter, defaultdict"
   ]
  },
  {
   "cell_type": "code",
   "execution_count": 4,
   "metadata": {},
   "outputs": [
    {
     "data": {
      "text/plain": [
       "[('blue', [2, 4]), ('red', [1]), ('yellow', [1, 3])]"
      ]
     },
     "execution_count": 4,
     "metadata": {},
     "output_type": "execute_result"
    }
   ],
   "source": [
    "s = [('yellow', 1), ('blue', 2), ('yellow', 3), ('blue', 4), ('red', 1)]\n",
    "\n",
    "d = collections.defaultdict(list)\n",
    "for k, v in s:\n",
    "    d[k].append(v)\n",
    "\n",
    "list(d.items())\n"
   ]
  },
  {
   "cell_type": "code",
   "execution_count": 57,
   "metadata": {
    "collapsed": true
   },
   "outputs": [],
   "source": [
    "inputs = [\n",
    "        ({'level':'Senior','lang':'Java','tweets':'no','phd':'no'},   False),\n",
    "        ({'level':'Senior','lang':'Java','tweets':'no','phd':'yes'},  False),\n",
    "        ({'level':'Mid','lang':'Python','tweets':'no','phd':'no'},     True),\n",
    "        ({'level':'Junior','lang':'Python','tweets':'no','phd':'no'},  True),\n",
    "        ({'level':'Junior','lang':'R','tweets':'yes','phd':'no'},      True),\n",
    "        ({'level':'Junior','lang':'R','tweets':'yes','phd':'yes'},    False),\n",
    "        ({'level':'Mid','lang':'R','tweets':'yes','phd':'yes'},        True),\n",
    "        ({'level':'Senior','lang':'Python','tweets':'no','phd':'no'}, False),\n",
    "        ({'level':'Senior','lang':'R','tweets':'yes','phd':'no'},      True),\n",
    "        ({'level':'Junior','lang':'Python','tweets':'yes','phd':'no'}, True),\n",
    "        ({'level':'Senior','lang':'Python','tweets':'yes','phd':'yes'},True),\n",
    "        ({'level':'Mid','lang':'Python','tweets':'no','phd':'yes'},    True),\n",
    "        ({'level':'Mid','lang':'Java','tweets':'yes','phd':'no'},      True),\n",
    "        ({'level':'Junior','lang':'Python','tweets':'no','phd':'yes'},False)\n",
    "    ]"
   ]
  },
  {
   "cell_type": "code",
   "execution_count": 86,
   "metadata": {
    "collapsed": true
   },
   "outputs": [],
   "source": [
    "def entropy(class_probabilities):\n",
    "    \"\"\"given a list of class probabilities, compute the entropy\"\"\"\n",
    "    return sum(-p * math.log(p, 2) for p in class_probabilities if p)\n",
    "\n",
    "def class_probabilities(labels):\n",
    "    total_count = len(labels)\n",
    "    print(total_count)\n",
    "    return [count / total_count\n",
    "            for count in Counter(labels).values()]\n",
    "\n",
    "def data_entropy(labeled_data):\n",
    "    labels = [label for _, label in labeled_data]\n",
    "    print(labels)\n",
    "    print('====================')\n",
    "    \n",
    "    probabilities = class_probabilities(labels)\n",
    "    print(probabilities)\n",
    "    return entropy(probabilities)\n",
    "\n",
    "def partition_entropy(subsets):\n",
    "    \"\"\"find the entropy from this partition of data into subsets\"\"\"\n",
    "    total_count = sum(len(subset) for subset in subsets)\n",
    "    for s in subsets:\n",
    "        print(s)\n",
    "    print('====================')\n",
    "    return sum( data_entropy(subset) * len(subset) / total_count\n",
    "                for subset in subsets )\n",
    "\n",
    "def group_by(items, key_fn):\n",
    "    \"\"\"returns a defaultdict(list), where each input item\n",
    "    is in the list whose key is key_fn(item)\"\"\"\n",
    "    groups = defaultdict(list)\n",
    "    for item in items:\n",
    "        key = key_fn(item)\n",
    "        groups[key].append(item)\n",
    "    return groups\n",
    "\n",
    "def partition_by(inputs, attribute):\n",
    "    \"\"\"returns a dict of inputs partitioned by the attribute\n",
    "    each input is a pair (attribute_dict, label)\"\"\"\n",
    "#     print(attribute)\n",
    "    return group_by(inputs, lambda x: x[0][attribute])\n",
    "\n",
    "def partition_entropy_by(inputs,attribute):\n",
    "    \"\"\"computes the entropy corresponding to the given partition\"\"\"\n",
    "    partitions = partition_by(inputs, attribute)\n",
    "#     print(partitions.values())\n",
    "    return partition_entropy(partitions.values())\n",
    "\n"
   ]
  },
  {
   "cell_type": "code",
   "execution_count": 87,
   "metadata": {},
   "outputs": [
    {
     "name": "stdout",
     "output_type": "stream",
     "text": [
      "level\n",
      "[({'lang': 'Java', 'tweets': 'no', 'phd': 'no', 'level': 'Senior'}, False), ({'lang': 'Java', 'tweets': 'no', 'phd': 'yes', 'level': 'Senior'}, False), ({'lang': 'Python', 'tweets': 'no', 'phd': 'no', 'level': 'Senior'}, False), ({'lang': 'R', 'tweets': 'yes', 'phd': 'no', 'level': 'Senior'}, True), ({'lang': 'Python', 'tweets': 'yes', 'phd': 'yes', 'level': 'Senior'}, True)]\n",
      "[({'lang': 'Python', 'tweets': 'no', 'phd': 'no', 'level': 'Mid'}, True), ({'lang': 'R', 'tweets': 'yes', 'phd': 'yes', 'level': 'Mid'}, True), ({'lang': 'Python', 'tweets': 'no', 'phd': 'yes', 'level': 'Mid'}, True), ({'lang': 'Java', 'tweets': 'yes', 'phd': 'no', 'level': 'Mid'}, True)]\n",
      "[({'lang': 'Python', 'tweets': 'no', 'phd': 'no', 'level': 'Junior'}, True), ({'lang': 'R', 'tweets': 'yes', 'phd': 'no', 'level': 'Junior'}, True), ({'lang': 'R', 'tweets': 'yes', 'phd': 'yes', 'level': 'Junior'}, False), ({'lang': 'Python', 'tweets': 'yes', 'phd': 'no', 'level': 'Junior'}, True), ({'lang': 'Python', 'tweets': 'no', 'phd': 'yes', 'level': 'Junior'}, False)]\n",
      "====================\n",
      "[False, False, False, True, True]\n",
      "====================\n",
      "5\n",
      "[0, 0]\n",
      "[True, True, True, True]\n",
      "====================\n",
      "4\n",
      "[1]\n",
      "[True, True, False, True, False]\n",
      "====================\n",
      "5\n",
      "[0, 0]\n",
      "('level', 0.0)\n",
      "lang\n",
      "[({'lang': 'Python', 'tweets': 'no', 'phd': 'no', 'level': 'Mid'}, True), ({'lang': 'Python', 'tweets': 'no', 'phd': 'no', 'level': 'Junior'}, True), ({'lang': 'Python', 'tweets': 'no', 'phd': 'no', 'level': 'Senior'}, False), ({'lang': 'Python', 'tweets': 'yes', 'phd': 'no', 'level': 'Junior'}, True), ({'lang': 'Python', 'tweets': 'yes', 'phd': 'yes', 'level': 'Senior'}, True), ({'lang': 'Python', 'tweets': 'no', 'phd': 'yes', 'level': 'Mid'}, True), ({'lang': 'Python', 'tweets': 'no', 'phd': 'yes', 'level': 'Junior'}, False)]\n",
      "[({'lang': 'R', 'tweets': 'yes', 'phd': 'no', 'level': 'Junior'}, True), ({'lang': 'R', 'tweets': 'yes', 'phd': 'yes', 'level': 'Junior'}, False), ({'lang': 'R', 'tweets': 'yes', 'phd': 'yes', 'level': 'Mid'}, True), ({'lang': 'R', 'tweets': 'yes', 'phd': 'no', 'level': 'Senior'}, True)]\n",
      "[({'lang': 'Java', 'tweets': 'no', 'phd': 'no', 'level': 'Senior'}, False), ({'lang': 'Java', 'tweets': 'no', 'phd': 'yes', 'level': 'Senior'}, False), ({'lang': 'Java', 'tweets': 'yes', 'phd': 'no', 'level': 'Mid'}, True)]\n",
      "====================\n",
      "[True, True, False, True, True, True, False]\n",
      "====================\n",
      "7\n",
      "[0, 0]\n",
      "[True, False, True, True]\n",
      "====================\n",
      "4\n",
      "[0, 0]\n",
      "[False, False, True]\n",
      "====================\n",
      "3\n",
      "[0, 0]\n",
      "('lang', 0)\n",
      "tweets\n",
      "[({'lang': 'R', 'tweets': 'yes', 'phd': 'no', 'level': 'Junior'}, True), ({'lang': 'R', 'tweets': 'yes', 'phd': 'yes', 'level': 'Junior'}, False), ({'lang': 'R', 'tweets': 'yes', 'phd': 'yes', 'level': 'Mid'}, True), ({'lang': 'R', 'tweets': 'yes', 'phd': 'no', 'level': 'Senior'}, True), ({'lang': 'Python', 'tweets': 'yes', 'phd': 'no', 'level': 'Junior'}, True), ({'lang': 'Python', 'tweets': 'yes', 'phd': 'yes', 'level': 'Senior'}, True), ({'lang': 'Java', 'tweets': 'yes', 'phd': 'no', 'level': 'Mid'}, True)]\n",
      "[({'lang': 'Java', 'tweets': 'no', 'phd': 'no', 'level': 'Senior'}, False), ({'lang': 'Java', 'tweets': 'no', 'phd': 'yes', 'level': 'Senior'}, False), ({'lang': 'Python', 'tweets': 'no', 'phd': 'no', 'level': 'Mid'}, True), ({'lang': 'Python', 'tweets': 'no', 'phd': 'no', 'level': 'Junior'}, True), ({'lang': 'Python', 'tweets': 'no', 'phd': 'no', 'level': 'Senior'}, False), ({'lang': 'Python', 'tweets': 'no', 'phd': 'yes', 'level': 'Mid'}, True), ({'lang': 'Python', 'tweets': 'no', 'phd': 'yes', 'level': 'Junior'}, False)]\n",
      "====================\n",
      "[True, False, True, True, True, True, True]\n",
      "====================\n",
      "7\n",
      "[0, 0]\n",
      "[False, False, True, True, False, True, False]\n",
      "====================\n",
      "7\n",
      "[0, 0]\n",
      "('tweets', 0)\n",
      "phd\n",
      "[({'lang': 'Java', 'tweets': 'no', 'phd': 'yes', 'level': 'Senior'}, False), ({'lang': 'R', 'tweets': 'yes', 'phd': 'yes', 'level': 'Junior'}, False), ({'lang': 'R', 'tweets': 'yes', 'phd': 'yes', 'level': 'Mid'}, True), ({'lang': 'Python', 'tweets': 'yes', 'phd': 'yes', 'level': 'Senior'}, True), ({'lang': 'Python', 'tweets': 'no', 'phd': 'yes', 'level': 'Mid'}, True), ({'lang': 'Python', 'tweets': 'no', 'phd': 'yes', 'level': 'Junior'}, False)]\n",
      "[({'lang': 'Java', 'tweets': 'no', 'phd': 'no', 'level': 'Senior'}, False), ({'lang': 'Python', 'tweets': 'no', 'phd': 'no', 'level': 'Mid'}, True), ({'lang': 'Python', 'tweets': 'no', 'phd': 'no', 'level': 'Junior'}, True), ({'lang': 'R', 'tweets': 'yes', 'phd': 'no', 'level': 'Junior'}, True), ({'lang': 'Python', 'tweets': 'no', 'phd': 'no', 'level': 'Senior'}, False), ({'lang': 'R', 'tweets': 'yes', 'phd': 'no', 'level': 'Senior'}, True), ({'lang': 'Python', 'tweets': 'yes', 'phd': 'no', 'level': 'Junior'}, True), ({'lang': 'Java', 'tweets': 'yes', 'phd': 'no', 'level': 'Mid'}, True)]\n",
      "====================\n",
      "[False, False, True, True, True, False]\n",
      "====================\n",
      "6\n",
      "[0, 0]\n",
      "[False, True, True, True, False, True, True, True]\n",
      "====================\n",
      "8\n",
      "[0, 0]\n",
      "('phd', 0)\n"
     ]
    }
   ],
   "source": [
    "for key in ['level','lang','tweets','phd']:\n",
    "    print(key)\n",
    "    print(key, partition_entropy_by(inputs, key))"
   ]
  },
  {
   "cell_type": "code",
   "execution_count": 60,
   "metadata": {},
   "outputs": [
    {
     "name": "stdout",
     "output_type": "stream",
     "text": [
      "('lang', 0.0)\n",
      "('tweets', 0.0)\n",
      "('phd', 0)\n"
     ]
    }
   ],
   "source": [
    "senior_inputs = [(input, label) for input, label in inputs if input[\"level\"] == \"Senior\"]\n",
    "for key in ['lang', 'tweets', 'phd']:\n",
    "    print(key, partition_entropy_by(senior_inputs, key))"
   ]
  },
  {
   "cell_type": "code",
   "execution_count": 54,
   "metadata": {},
   "outputs": [
    {
     "name": "stdout",
     "output_type": "stream",
     "text": [
      "defaultdict(<type 'list'>, {'Senior': [({'lang': 'Java', 'tweets': 'no', 'phd': 'no', 'level': 'Senior'}, False), ({'lang': 'Java', 'tweets': 'no', 'phd': 'yes', 'level': 'Senior'}, False), ({'lang': 'Python', 'tweets': 'no', 'phd': 'no', 'level': 'Senior'}, False), ({'lang': 'R', 'tweets': 'yes', 'phd': 'no', 'level': 'Senior'}, True), ({'lang': 'Python', 'tweets': 'yes', 'phd': 'yes', 'level': 'Senior'}, True)], 'Mid': [({'lang': 'Python', 'tweets': 'no', 'phd': 'no', 'level': 'Mid'}, True), ({'lang': 'R', 'tweets': 'yes', 'phd': 'yes', 'level': 'Mid'}, True), ({'lang': 'Python', 'tweets': 'no', 'phd': 'yes', 'level': 'Mid'}, True), ({'lang': 'Java', 'tweets': 'yes', 'phd': 'no', 'level': 'Mid'}, True)], 'Junior': [({'lang': 'Python', 'tweets': 'no', 'phd': 'no', 'level': 'Junior'}, True), ({'lang': 'R', 'tweets': 'yes', 'phd': 'no', 'level': 'Junior'}, True), ({'lang': 'R', 'tweets': 'yes', 'phd': 'yes', 'level': 'Junior'}, False), ({'lang': 'Python', 'tweets': 'yes', 'phd': 'no', 'level': 'Junior'}, True), ({'lang': 'Python', 'tweets': 'no', 'phd': 'yes', 'level': 'Junior'}, False)]})\n",
      "[[({'lang': 'Java', 'tweets': 'no', 'phd': 'no', 'level': 'Senior'}, False), ({'lang': 'Java', 'tweets': 'no', 'phd': 'yes', 'level': 'Senior'}, False), ({'lang': 'Python', 'tweets': 'no', 'phd': 'no', 'level': 'Senior'}, False), ({'lang': 'R', 'tweets': 'yes', 'phd': 'no', 'level': 'Senior'}, True), ({'lang': 'Python', 'tweets': 'yes', 'phd': 'yes', 'level': 'Senior'}, True)], [({'lang': 'Python', 'tweets': 'no', 'phd': 'no', 'level': 'Mid'}, True), ({'lang': 'R', 'tweets': 'yes', 'phd': 'yes', 'level': 'Mid'}, True), ({'lang': 'Python', 'tweets': 'no', 'phd': 'yes', 'level': 'Mid'}, True), ({'lang': 'Java', 'tweets': 'yes', 'phd': 'no', 'level': 'Mid'}, True)], [({'lang': 'Python', 'tweets': 'no', 'phd': 'no', 'level': 'Junior'}, True), ({'lang': 'R', 'tweets': 'yes', 'phd': 'no', 'level': 'Junior'}, True), ({'lang': 'R', 'tweets': 'yes', 'phd': 'yes', 'level': 'Junior'}, False), ({'lang': 'Python', 'tweets': 'yes', 'phd': 'no', 'level': 'Junior'}, True), ({'lang': 'Python', 'tweets': 'no', 'phd': 'yes', 'level': 'Junior'}, False)]]\n",
      "14\n",
      "\n",
      "\n",
      "\n",
      "\n",
      "[({'lang': 'Java', 'tweets': 'no', 'phd': 'no', 'level': 'Senior'}, False), ({'lang': 'Java', 'tweets': 'no', 'phd': 'yes', 'level': 'Senior'}, False), ({'lang': 'Python', 'tweets': 'no', 'phd': 'no', 'level': 'Senior'}, False), ({'lang': 'R', 'tweets': 'yes', 'phd': 'no', 'level': 'Senior'}, True), ({'lang': 'Python', 'tweets': 'yes', 'phd': 'yes', 'level': 'Senior'}, True)]\n",
      "\n",
      "\n",
      "[False, False, False, True, True]\n",
      "\n",
      "\n",
      "[0, 0]\n",
      "\n",
      " !!!!!!!\n",
      "[({'lang': 'Python', 'tweets': 'no', 'phd': 'no', 'level': 'Mid'}, True), ({'lang': 'R', 'tweets': 'yes', 'phd': 'yes', 'level': 'Mid'}, True), ({'lang': 'Python', 'tweets': 'no', 'phd': 'yes', 'level': 'Mid'}, True), ({'lang': 'Java', 'tweets': 'yes', 'phd': 'no', 'level': 'Mid'}, True)]\n",
      "\n",
      "\n",
      "[True, True, True, True]\n",
      "\n",
      "\n",
      "[1]\n",
      "\n",
      " !!!!!!!\n",
      "[({'lang': 'Python', 'tweets': 'no', 'phd': 'no', 'level': 'Junior'}, True), ({'lang': 'R', 'tweets': 'yes', 'phd': 'no', 'level': 'Junior'}, True), ({'lang': 'R', 'tweets': 'yes', 'phd': 'yes', 'level': 'Junior'}, False), ({'lang': 'Python', 'tweets': 'yes', 'phd': 'no', 'level': 'Junior'}, True), ({'lang': 'Python', 'tweets': 'no', 'phd': 'yes', 'level': 'Junior'}, False)]\n",
      "\n",
      "\n",
      "[True, True, False, True, False]\n",
      "\n",
      "\n",
      "[0, 0]\n",
      "\n",
      " !!!!!!!\n"
     ]
    }
   ],
   "source": [
    "import math, random\n",
    "groups = defaultdict(list)\n",
    "for j in inputs:\n",
    "    key = j[0]['level']\n",
    "        \n",
    "    groups[key].append(j)\n",
    "print(groups)\n",
    "\n",
    "subsets = groups.values()\n",
    "print(a)\n",
    "\n",
    "t = sum(len(s) for s in subsets)\n",
    "\n",
    "print(t)\n",
    "print('\\n')\n",
    "\n",
    "print('\\n')\n",
    "   \n",
    "    \n",
    "    \n",
    "for s in subsets:\n",
    "    print(s)\n",
    "    print('\\n')\n",
    "\n",
    "    labels = [l for _, l in s]\n",
    "    print(labels)\n",
    "    print('\\n')\n",
    "    total_count = len(labels)\n",
    "    ps = [ c/total_count for c in Counter(labels).values()]\n",
    "    ans = sum(-p*math.log(p,2) for p in ps if p)\n",
    "    print(ps)\n",
    "    print('\\n !!!!!!!')\n",
    "    "
   ]
  },
  {
   "cell_type": "code",
   "execution_count": null,
   "metadata": {
    "collapsed": true
   },
   "outputs": [],
   "source": []
  },
  {
   "cell_type": "code",
   "execution_count": 7,
   "metadata": {
    "collapsed": true
   },
   "outputs": [],
   "source": [
    "def group_by(items, key_fn):\n",
    "    \"\"\"returns a defaultdict(list), where each input item\n",
    "    is in the list whose key is key_fn(item)\"\"\"\n",
    "    groups = defaultdict(list)\n",
    "    for item in items:\n",
    "        key = key_fn(item)\n",
    "        groups[key].append(item)\n",
    "    return groups\n",
    "\n",
    "def partition_by(inputs, attribute):\n",
    "    \"\"\"returns a dict of inputs partitioned by the attribute\n",
    "    each input is a pair (attribute_dict, label)\"\"\"\n",
    "    return group_by(inputs, lambda x: x[0][attribute])\n",
    "\n",
    "def partition_entropy_by(inputs,attribute):\n",
    "    \"\"\"computes the entropy corresponding to the given partition\"\"\"\n",
    "    partitions = partition_by(inputs, attribute)\n",
    "    return partition_entropy(partitions.values())\n",
    "\n",
    "\n",
    "def partition_entropy(subsets):\n",
    "    \"\"\"find the entropy from this partition of data into subsets\"\"\"\n",
    "    total_count = sum(len(subset) for subset in subsets)\n",
    "\n",
    "    return sum( data_entropy(subset) * len(subset) / total_count\n",
    "                for subset in subsets )"
   ]
  },
  {
   "cell_type": "code",
   "execution_count": 50,
   "metadata": {},
   "outputs": [
    {
     "name": "stdout",
     "output_type": "stream",
     "text": [
      "defaultdict(<type 'list'>, {'yellow': [1]})\n",
      "defaultdict(<type 'list'>, {'blue': [2], 'yellow': [1]})\n",
      "defaultdict(<type 'list'>, {'blue': [2], 'yellow': [1, 3]})\n",
      "defaultdict(<type 'list'>, {'blue': [2, 4], 'yellow': [1, 3]})\n",
      "defaultdict(<type 'list'>, {'blue': [2, 4], 'red': [1], 'yellow': [1, 3]})\n"
     ]
    },
    {
     "data": {
      "text/plain": [
       "[('blue', [2, 4]), ('red', [1]), ('yellow', [1, 3])]"
      ]
     },
     "execution_count": 50,
     "metadata": {},
     "output_type": "execute_result"
    }
   ],
   "source": [
    "import collections\n",
    "s = [('yellow', 1), ('blue', 2), ('yellow', 3), ('blue', 4), ('red', 1)]\n",
    "\n",
    "d = collections.defaultdict(list)\n",
    "for k, v in s:\n",
    "    d[k].append(v)\n",
    "    print(d)\n",
    "\n",
    "list(d.items())"
   ]
  },
  {
   "cell_type": "code",
   "execution_count": 51,
   "metadata": {},
   "outputs": [
    {
     "data": {
      "text/plain": [
       "[[2, 4], [1], [1, 3]]"
      ]
     },
     "execution_count": 51,
     "metadata": {},
     "output_type": "execute_result"
    }
   ],
   "source": [
    "d.values()"
   ]
  },
  {
   "cell_type": "markdown",
   "metadata": {},
   "source": [
    "---"
   ]
  },
  {
   "cell_type": "code",
   "execution_count": 1,
   "metadata": {
    "collapsed": true
   },
   "outputs": [],
   "source": [
    "from sklearn import datasets\n",
    "import pandas as pd\n",
    "import numpy as np\n",
    "import matplotlib.pyplot as plt\n",
    "import seaborn as sns\n",
    "from IPython.display import display"
   ]
  },
  {
   "cell_type": "code",
   "execution_count": 2,
   "metadata": {
    "collapsed": true
   },
   "outputs": [],
   "source": [
    "%matplotlib inline"
   ]
  },
  {
   "cell_type": "code",
   "execution_count": 3,
   "metadata": {
    "collapsed": true
   },
   "outputs": [],
   "source": [
    "bc = datasets.load_breast_cancer()"
   ]
  },
  {
   "cell_type": "code",
   "execution_count": 4,
   "metadata": {},
   "outputs": [
    {
     "data": {
      "text/plain": [
       "['target_names', 'data', 'target', 'DESCR', 'feature_names']"
      ]
     },
     "execution_count": 4,
     "metadata": {},
     "output_type": "execute_result"
    }
   ],
   "source": [
    "bc.keys()"
   ]
  },
  {
   "cell_type": "code",
   "execution_count": 44,
   "metadata": {},
   "outputs": [
    {
     "name": "stdout",
     "output_type": "stream",
     "text": [
      "Breast Cancer Wisconsin (Diagnostic) Database\n",
      "=============================================\n",
      "\n",
      "Notes\n",
      "-----\n",
      "Data Set Characteristics:\n",
      "    :Number of Instances: 569\n",
      "\n",
      "    :Number of Attributes: 30 numeric, predictive attributes and the class\n",
      "\n",
      "    :Attribute Information:\n",
      "        - radius (mean of distances from center to points on the perimeter)\n",
      "        - texture (standard deviation of gray-scale values)\n",
      "        - perimeter\n",
      "        - area\n",
      "        - smoothness (local variation in radius lengths)\n",
      "        - compactness (perimeter^2 / area - 1.0)\n",
      "        - concavity (severity of concave portions of the contour)\n",
      "        - concave points (number of concave portions of the contour)\n",
      "        - symmetry \n",
      "        - fractal dimension (\"coastline approximation\" - 1)\n",
      "\n",
      "        The mean, standard error, and \"worst\" or largest (mean of the three\n",
      "        largest values) of these features were computed for each image,\n",
      "        resulting in 30 features.  For instance, field 3 is Mean Radius, field\n",
      "        13 is Radius SE, field 23 is Worst Radius.\n",
      "\n",
      "        - class:\n",
      "                - WDBC-Malignant\n",
      "                - WDBC-Benign\n",
      "\n",
      "    :Summary Statistics:\n",
      "\n",
      "    ===================================== ====== ======\n",
      "                                           Min    Max\n",
      "    ===================================== ====== ======\n",
      "    radius (mean):                        6.981  28.11\n",
      "    texture (mean):                       9.71   39.28\n",
      "    perimeter (mean):                     43.79  188.5\n",
      "    area (mean):                          143.5  2501.0\n",
      "    smoothness (mean):                    0.053  0.163\n",
      "    compactness (mean):                   0.019  0.345\n",
      "    concavity (mean):                     0.0    0.427\n",
      "    concave points (mean):                0.0    0.201\n",
      "    symmetry (mean):                      0.106  0.304\n",
      "    fractal dimension (mean):             0.05   0.097\n",
      "    radius (standard error):              0.112  2.873\n",
      "    texture (standard error):             0.36   4.885\n",
      "    perimeter (standard error):           0.757  21.98\n",
      "    area (standard error):                6.802  542.2\n",
      "    smoothness (standard error):          0.002  0.031\n",
      "    compactness (standard error):         0.002  0.135\n",
      "    concavity (standard error):           0.0    0.396\n",
      "    concave points (standard error):      0.0    0.053\n",
      "    symmetry (standard error):            0.008  0.079\n",
      "    fractal dimension (standard error):   0.001  0.03\n",
      "    radius (worst):                       7.93   36.04\n",
      "    texture (worst):                      12.02  49.54\n",
      "    perimeter (worst):                    50.41  251.2\n",
      "    area (worst):                         185.2  4254.0\n",
      "    smoothness (worst):                   0.071  0.223\n",
      "    compactness (worst):                  0.027  1.058\n",
      "    concavity (worst):                    0.0    1.252\n",
      "    concave points (worst):               0.0    0.291\n",
      "    symmetry (worst):                     0.156  0.664\n",
      "    fractal dimension (worst):            0.055  0.208\n",
      "    ===================================== ====== ======\n",
      "\n",
      "    :Missing Attribute Values: None\n",
      "\n",
      "    :Class Distribution: 212 - Malignant, 357 - Benign\n",
      "\n",
      "    :Creator:  Dr. William H. Wolberg, W. Nick Street, Olvi L. Mangasarian\n",
      "\n",
      "    :Donor: Nick Street\n",
      "\n",
      "    :Date: November, 1995\n",
      "\n",
      "This is a copy of UCI ML Breast Cancer Wisconsin (Diagnostic) datasets.\n",
      "https://goo.gl/U2Uwz2\n",
      "\n",
      "Features are computed from a digitized image of a fine needle\n",
      "aspirate (FNA) of a breast mass.  They describe\n",
      "characteristics of the cell nuclei present in the image.\n",
      "\n",
      "Separating plane described above was obtained using\n",
      "Multisurface Method-Tree (MSM-T) [K. P. Bennett, \"Decision Tree\n",
      "Construction Via Linear Programming.\" Proceedings of the 4th\n",
      "Midwest Artificial Intelligence and Cognitive Science Society,\n",
      "pp. 97-101, 1992], a classification method which uses linear\n",
      "programming to construct a decision tree.  Relevant features\n",
      "were selected using an exhaustive search in the space of 1-4\n",
      "features and 1-3 separating planes.\n",
      "\n",
      "The actual linear program used to obtain the separating plane\n",
      "in the 3-dimensional space is that described in:\n",
      "[K. P. Bennett and O. L. Mangasarian: \"Robust Linear\n",
      "Programming Discrimination of Two Linearly Inseparable Sets\",\n",
      "Optimization Methods and Software 1, 1992, 23-34].\n",
      "\n",
      "This database is also available through the UW CS ftp server:\n",
      "\n",
      "ftp ftp.cs.wisc.edu\n",
      "cd math-prog/cpo-dataset/machine-learn/WDBC/\n",
      "\n",
      "References\n",
      "----------\n",
      "   - W.N. Street, W.H. Wolberg and O.L. Mangasarian. Nuclear feature extraction \n",
      "     for breast tumor diagnosis. IS&T/SPIE 1993 International Symposium on \n",
      "     Electronic Imaging: Science and Technology, volume 1905, pages 861-870,\n",
      "     San Jose, CA, 1993.\n",
      "   - O.L. Mangasarian, W.N. Street and W.H. Wolberg. Breast cancer diagnosis and \n",
      "     prognosis via linear programming. Operations Research, 43(4), pages 570-577, \n",
      "     July-August 1995.\n",
      "   - W.H. Wolberg, W.N. Street, and O.L. Mangasarian. Machine learning techniques\n",
      "     to diagnose breast cancer from fine-needle aspirates. Cancer Letters 77 (1994) \n",
      "     163-171.\n",
      "\n"
     ]
    }
   ],
   "source": [
    "print(bc.DESCR)"
   ]
  },
  {
   "cell_type": "code",
   "execution_count": 5,
   "metadata": {},
   "outputs": [
    {
     "name": "stdout",
     "output_type": "stream",
     "text": [
      "target_names: ['malignant' 'benign']\n"
     ]
    }
   ],
   "source": [
    "x = pd.DataFrame(bc['data'], columns=bc['feature_names'])\n",
    "print(\"target_names: \"+str(bc['target_names']))\n",
    "y = pd.DataFrame(bc['target'], columns=['target'])\n",
    "bc_data = pd.concat([x,y], axis=1)\n",
    "f = bc['feature_names'][:2]\n",
    "# f = np.append(f,['target'],axis=0)\n",
    "\n",
    "bc_data = bc_data[['mean radius','mean perimeter','target']]\n",
    "\n",
    "# bc_data = bc_data[bc_data['target'].isin([0,1])]\n",
    "# bc_data.head(3)"
   ]
  },
  {
   "cell_type": "code",
   "execution_count": 6,
   "metadata": {},
   "outputs": [
    {
     "data": {
      "text/html": [
       "<div>\n",
       "<style>\n",
       "    .dataframe thead tr:only-child th {\n",
       "        text-align: right;\n",
       "    }\n",
       "\n",
       "    .dataframe thead th {\n",
       "        text-align: left;\n",
       "    }\n",
       "\n",
       "    .dataframe tbody tr th {\n",
       "        vertical-align: top;\n",
       "    }\n",
       "</style>\n",
       "<table border=\"1\" class=\"dataframe\">\n",
       "  <thead>\n",
       "    <tr style=\"text-align: right;\">\n",
       "      <th></th>\n",
       "      <th>mean radius</th>\n",
       "      <th>mean perimeter</th>\n",
       "      <th>target</th>\n",
       "    </tr>\n",
       "  </thead>\n",
       "  <tbody>\n",
       "    <tr>\n",
       "      <th>0</th>\n",
       "      <td>17.99</td>\n",
       "      <td>122.80</td>\n",
       "      <td>0</td>\n",
       "    </tr>\n",
       "    <tr>\n",
       "      <th>1</th>\n",
       "      <td>20.57</td>\n",
       "      <td>132.90</td>\n",
       "      <td>0</td>\n",
       "    </tr>\n",
       "    <tr>\n",
       "      <th>2</th>\n",
       "      <td>19.69</td>\n",
       "      <td>130.00</td>\n",
       "      <td>0</td>\n",
       "    </tr>\n",
       "    <tr>\n",
       "      <th>3</th>\n",
       "      <td>11.42</td>\n",
       "      <td>77.58</td>\n",
       "      <td>0</td>\n",
       "    </tr>\n",
       "    <tr>\n",
       "      <th>4</th>\n",
       "      <td>20.29</td>\n",
       "      <td>135.10</td>\n",
       "      <td>0</td>\n",
       "    </tr>\n",
       "    <tr>\n",
       "      <th>5</th>\n",
       "      <td>12.45</td>\n",
       "      <td>82.57</td>\n",
       "      <td>0</td>\n",
       "    </tr>\n",
       "    <tr>\n",
       "      <th>6</th>\n",
       "      <td>18.25</td>\n",
       "      <td>119.60</td>\n",
       "      <td>0</td>\n",
       "    </tr>\n",
       "    <tr>\n",
       "      <th>7</th>\n",
       "      <td>13.71</td>\n",
       "      <td>90.20</td>\n",
       "      <td>0</td>\n",
       "    </tr>\n",
       "    <tr>\n",
       "      <th>8</th>\n",
       "      <td>13.00</td>\n",
       "      <td>87.50</td>\n",
       "      <td>0</td>\n",
       "    </tr>\n",
       "    <tr>\n",
       "      <th>9</th>\n",
       "      <td>12.46</td>\n",
       "      <td>83.97</td>\n",
       "      <td>0</td>\n",
       "    </tr>\n",
       "  </tbody>\n",
       "</table>\n",
       "</div>"
      ],
      "text/plain": [
       "   mean radius  mean perimeter  target\n",
       "0        17.99          122.80       0\n",
       "1        20.57          132.90       0\n",
       "2        19.69          130.00       0\n",
       "3        11.42           77.58       0\n",
       "4        20.29          135.10       0\n",
       "5        12.45           82.57       0\n",
       "6        18.25          119.60       0\n",
       "7        13.71           90.20       0\n",
       "8        13.00           87.50       0\n",
       "9        12.46           83.97       0"
      ]
     },
     "execution_count": 6,
     "metadata": {},
     "output_type": "execute_result"
    }
   ],
   "source": [
    "# bc_data = bc_data[f]\n",
    "bc_data = bc_data[bc_data['target'].isin([0,1])]\n",
    "bc_data.head(10)"
   ]
  },
  {
   "cell_type": "code",
   "execution_count": 7,
   "metadata": {
    "collapsed": true
   },
   "outputs": [],
   "source": [
    "from sklearn.model_selection import train_test_split\n",
    "X_train, X_test, y_train, y_test = train_test_split(\n",
    "    bc_data[['mean radius','mean perimeter']], bc_data[['target']], test_size=0.3, random_state=0)"
   ]
  },
  {
   "cell_type": "code",
   "execution_count": 23,
   "metadata": {},
   "outputs": [
    {
     "data": {
      "text/plain": [
       "DecisionTreeClassifier(class_weight=None, criterion='entropy', max_depth=6,\n",
       "            max_features=None, max_leaf_nodes=None,\n",
       "            min_impurity_decrease=0.0, min_impurity_split=None,\n",
       "            min_samples_leaf=1, min_samples_split=2,\n",
       "            min_weight_fraction_leaf=0.0, presort=False, random_state=0,\n",
       "            splitter='best')"
      ]
     },
     "execution_count": 23,
     "metadata": {},
     "output_type": "execute_result"
    }
   ],
   "source": [
    "from sklearn.tree import DecisionTreeClassifier\n",
    "tree = DecisionTreeClassifier(criterion = 'entropy', max_depth=6,random_state=0)\n",
    "tree.fit(X_train,y_train)"
   ]
  },
  {
   "cell_type": "code",
   "execution_count": 24,
   "metadata": {},
   "outputs": [
    {
     "data": {
      "text/plain": [
       "array([1, 1, 1, 1, 1, 1, 1, 1, 1, 1, 1, 1, 1, 0, 1, 0, 1, 0, 0, 0, 1, 0, 1,\n",
       "       1, 0, 1, 1, 0, 1, 0, 1, 0, 0, 1, 1, 1, 1, 0, 1, 1, 1, 1, 0, 1, 0, 0,\n",
       "       1, 1, 1, 1, 0, 0, 0, 1, 1, 1, 1, 1, 1, 0, 0, 0, 1, 1, 0, 1, 0, 0, 0,\n",
       "       1, 1, 0, 1, 1, 0, 1, 1, 1, 1, 1, 0, 0, 0, 1, 0, 1, 1, 1, 0, 0, 1, 0,\n",
       "       1, 0, 1, 1, 0, 1, 1, 1, 1, 1, 1, 0, 0, 1, 0, 1, 0, 0, 1, 0, 0, 0, 1,\n",
       "       1, 0, 1, 1, 0, 1, 1, 1, 1, 0, 1, 1, 1, 1, 1, 0, 1, 1, 0, 1, 1, 1, 1,\n",
       "       0, 1, 1, 1, 0, 1, 1, 0, 1, 0, 1, 1, 1, 1, 1, 1, 1, 1, 1, 0, 1, 0, 0,\n",
       "       1, 1, 0, 1, 0, 1, 0, 1, 0, 1])"
      ]
     },
     "execution_count": 24,
     "metadata": {},
     "output_type": "execute_result"
    }
   ],
   "source": [
    "tree.predict(X_test)"
   ]
  },
  {
   "cell_type": "code",
   "execution_count": 25,
   "metadata": {},
   "outputs": [
    {
     "data": {
      "text/plain": [
       "array([0, 1, 1, 1, 1, 1, 1, 1, 1, 1, 1, 1, 1, 1, 1, 0, 1, 0, 0, 0, 0, 0, 1,\n",
       "       1, 0, 1, 1, 0, 1, 0, 1, 0, 1, 0, 1, 0, 1, 0, 1, 0, 0, 1, 0, 1, 1, 0,\n",
       "       1, 1, 1, 0, 0, 0, 0, 1, 1, 1, 1, 1, 1, 0, 0, 0, 1, 1, 0, 1, 0, 0, 0,\n",
       "       1, 1, 0, 1, 0, 0, 1, 1, 1, 1, 1, 0, 0, 0, 1, 0, 1, 1, 1, 0, 0, 1, 0,\n",
       "       1, 0, 1, 1, 0, 1, 1, 1, 1, 1, 1, 1, 0, 1, 0, 1, 0, 0, 1, 0, 0, 1, 1,\n",
       "       1, 1, 1, 1, 1, 1, 1, 0, 1, 0, 1, 1, 1, 1, 1, 0, 1, 1, 1, 1, 1, 1, 0,\n",
       "       0, 1, 1, 1, 0, 1, 1, 0, 1, 0, 1, 1, 1, 1, 1, 1, 1, 0, 1, 0, 1, 0, 0,\n",
       "       1, 1, 0, 1, 0, 0, 0, 1, 1, 1])"
      ]
     },
     "execution_count": 25,
     "metadata": {},
     "output_type": "execute_result"
    }
   ],
   "source": [
    "y_test['target'].values"
   ]
  },
  {
   "cell_type": "code",
   "execution_count": 26,
   "metadata": {},
   "outputs": [
    {
     "name": "stdout",
     "output_type": "stream",
     "text": [
      "(0, 1)\n",
      "(13, 0)\n",
      "(20, 1)\n",
      "(32, 0)\n",
      "(33, 1)\n",
      "(35, 1)\n",
      "(39, 1)\n",
      "(40, 1)\n",
      "(44, 0)\n",
      "(49, 1)\n",
      "(73, 1)\n",
      "(103, 0)\n",
      "(113, 0)\n",
      "(116, 0)\n",
      "(119, 0)\n",
      "(122, 1)\n",
      "(133, 0)\n",
      "(137, 1)\n",
      "(155, 1)\n",
      "(166, 1)\n",
      "(169, 0)\n",
      "21\n"
     ]
    }
   ],
   "source": [
    "error = 0\n",
    "for i, v in enumerate(tree.predict(X_test)):\n",
    "    if v!= y_test['target'].values[i]:\n",
    "        print(i,v)\n",
    "        error+=1\n",
    "print(error)"
   ]
  },
  {
   "cell_type": "code",
   "execution_count": 27,
   "metadata": {},
   "outputs": [
    {
     "data": {
      "text/plain": [
       "0.8771929824561403"
      ]
     },
     "execution_count": 27,
     "metadata": {},
     "output_type": "execute_result"
    }
   ],
   "source": [
    "tree.score(X_test,y_test['target'])"
   ]
  },
  {
   "cell_type": "code",
   "execution_count": 28,
   "metadata": {
    "collapsed": true
   },
   "outputs": [],
   "source": [
    "from matplotlib.colors import ListedColormap\n",
    "\n",
    "def plot_decision_regions(X, y, classifier, test_idx=None, resolution=0.02):\n",
    "\n",
    "    # setup marker generator and color map\n",
    "    markers = ('s', 'x', 'o', '^', 'v')\n",
    "    colors = ('red', 'blue', 'lightgreen', 'gray', 'cyan')\n",
    "    cmap = ListedColormap(colors[:len(np.unique(y))])\n",
    "\n",
    "    # plot the decision surface\n",
    "    x1_min, x1_max = X[:, 0].min() - 1, X[:, 0].max() + 1\n",
    "    x2_min, x2_max = X[:, 1].min() - 1, X[:, 1].max() + 1\n",
    "    xx1, xx2 = np.meshgrid(np.arange(x1_min, x1_max, resolution),\n",
    "                           np.arange(x2_min, x2_max, resolution))\n",
    "    Z = classifier.predict(np.array([xx1.ravel(), xx2.ravel()]).T)\n",
    "    Z = Z.reshape(xx1.shape)\n",
    "    plt.contourf(xx1, xx2, Z, alpha=0.4, cmap=cmap)\n",
    "    plt.xlim(xx1.min(), xx1.max())\n",
    "    plt.ylim(xx2.min(), xx2.max())\n",
    "\n",
    "    for idx, cl in enumerate(np.unique(y)):\n",
    "        plt.scatter(x=X[y == cl, 0], \n",
    "                    y=X[y == cl, 1],\n",
    "                    alpha=0.6, \n",
    "                    c=cmap(idx),\n",
    "                    edgecolor='black',\n",
    "                    marker=markers[idx], \n",
    "                    label=cl)\n",
    "\n",
    "    # highlight test samples\n",
    "    if test_idx:\n",
    "        # plot all samples\n",
    "        if not versiontuple(np.__version__) >= versiontuple('1.9.0'):\n",
    "            X_test, y_test = X[list(test_idx), :], y[list(test_idx)]\n",
    "            warnings.warn('Please update to NumPy 1.9.0 or newer')\n",
    "        else:\n",
    "            X_test, y_test = X[test_idx, :], y[test_idx]\n",
    "\n",
    "        plt.scatter(X_test[:, 0],\n",
    "                    X_test[:, 1],\n",
    "                    c='',\n",
    "                    alpha=1.0,\n",
    "                    edgecolor='black',\n",
    "                    linewidths=1,\n",
    "                    marker='o',\n",
    "                    s=55, label='test set')"
   ]
  },
  {
   "cell_type": "code",
   "execution_count": 29,
   "metadata": {},
   "outputs": [
    {
     "data": {
      "image/png": "[encoded data removed]",
      "text/plain": [
       "<matplotlib.figure.Figure at 0x114b38390>"
      ]
     },
     "metadata": {},
     "output_type": "display_data"
    }
   ],
   "source": [
    "plot_decision_regions(X_train.values, y_train['target'].values, classifier=tree)\n",
    "plt.xlabel(bc['feature_names'][0])\n",
    "plt.ylabel(bc['feature_names'][2])\n",
    "plt.legend(loc='upper left')\n",
    "# plt.tight_layout()\n",
    "plt.show()"
   ]
  },
  {
   "cell_type": "code",
   "execution_count": 30,
   "metadata": {
    "collapsed": true
   },
   "outputs": [],
   "source": [
    "from sklearn.tree import export_graphviz"
   ]
  },
  {
   "cell_type": "code",
   "execution_count": 31,
   "metadata": {
    "collapsed": true
   },
   "outputs": [],
   "source": [
    "export_graphviz(tree, out_file='tree.dot', feature_names=['mean radius','mean perimeter'])"
   ]
  },
  {
   "cell_type": "code",
   "execution_count": 83,
   "metadata": {},
   "outputs": [
    {
     "data": {
      "text/plain": [
       "DecisionTreeClassifier(class_weight=None, criterion='entropy', max_depth=3,\n",
       "            max_features=None, max_leaf_nodes=None,\n",
       "            min_impurity_decrease=0.0, min_impurity_split=None,\n",
       "            min_samples_leaf=1, min_samples_split=2,\n",
       "            min_weight_fraction_leaf=0.0, presort=False, random_state=0,\n",
       "            splitter='best')"
      ]
     },
     "execution_count": 83,
     "metadata": {},
     "output_type": "execute_result"
    }
   ],
   "source": [
    "from sklearn.tree import DecisionTreeClassifier\n",
    "tree = DecisionTreeClassifier(criterion = 'entropy', max_depth=3, random_state=0)\n",
    "tree.fit(X_train,y_train)"
   ]
  },
  {
   "cell_type": "code",
   "execution_count": 85,
   "metadata": {},
   "outputs": [
    {
     "data": {
      "text/plain": [
       "0.88304093567251463"
      ]
     },
     "execution_count": 85,
     "metadata": {},
     "output_type": "execute_result"
    }
   ],
   "source": [
    "tree.score(X_test,y_test['target'])"
   ]
  },
  {
   "cell_type": "code",
   "execution_count": 84,
   "metadata": {},
   "outputs": [
    {
     "data": {
      "image/png": "[encoded data removed]",
      "text/plain": [
       "<matplotlib.figure.Figure at 0x11829c6d0>"
      ]
     },
     "metadata": {},
     "output_type": "display_data"
    }
   ],
   "source": [
    "plot_decision_regions(X_train.values, y_train['target'].values, classifier=tree)\n",
    "plt.xlabel('petal length [standardized]')\n",
    "plt.ylabel('petal width [standardized]')\n",
    "plt.legend(loc='upper left')\n",
    "plt.tight_layout()\n",
    "plt.show()"
   ]
  },
  {
   "cell_type": "code",
   "execution_count": null,
   "metadata": {
    "collapsed": true
   },
   "outputs": [],
   "source": []
  }
 ],
 "metadata": {
  "kernelspec": {
   "display_name": "Python 3",
   "language": "python",
   "name": "python3"
  },
  "language_info": {
   "codemirror_mode": {
    "name": "ipython",
    "version": 2
   },
   "file_extension": ".py",
   "mimetype": "text/x-python",
   "name": "python",
   "nbconvert_exporter": "python",
   "pygments_lexer": "ipython2",
   "version": "2.7.14"
  }
 },
 "nbformat": 4,
 "nbformat_minor": 2
}
